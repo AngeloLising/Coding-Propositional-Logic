{
  "nbformat": 4,
  "nbformat_minor": 0,
  "metadata": {
    "colab": {
      "name": "Vector Representation",
      "provenance": [],
      "authorship_tag": "ABX9TyNrCNRYIEMPkjLA9iuGbk6y",
      "include_colab_link": true
    },
    "kernelspec": {
      "name": "python3",
      "display_name": "Python 3"
    },
    "language_info": {
      "name": "python"
    }
  },
  "cells": [
    {
      "cell_type": "markdown",
      "metadata": {
        "id": "view-in-github",
        "colab_type": "text"
      },
      "source": [
        "<a href=\"https://colab.research.google.com/github/AngeloLising/Coding-Propositional-Logic/blob/main/Vector_Representation.ipynb\" target=\"_parent\"><img src=\"https://colab.research.google.com/assets/colab-badge.svg\" alt=\"Open In Colab\"/></a>"
      ]
    },
    {
      "cell_type": "markdown",
      "metadata": {
        "id": "Br3gNW4FBkGq"
      },
      "source": [
        "Vectors and its properties"
      ]
    },
    {
      "cell_type": "code",
      "metadata": {
        "colab": {
          "base_uri": "https://localhost:8080/"
        },
        "id": "rvyEyFHnBsjc",
        "outputId": "1e97c93e-d453-40bb-d8e9-80a6345ce251"
      },
      "source": [
        "import numpy as np\n",
        "#Create a 1x3 matrix\n",
        "a = np.array([1,2,3])\n",
        "print(a)"
      ],
      "execution_count": 3,
      "outputs": [
        {
          "output_type": "stream",
          "name": "stdout",
          "text": [
            "[1 2 3]\n"
          ]
        }
      ]
    },
    {
      "cell_type": "code",
      "metadata": {
        "colab": {
          "base_uri": "https://localhost:8080/"
        },
        "id": "b1IoJzLBCMf2",
        "outputId": "fd3f19cf-27c4-46f1-b9b2-b73e4a738cd9"
      },
      "source": [
        "#Create a 2x3 matrix\n",
        "b = np.array([[1,2,3],[4,5,6]]) #This is an example of rectangular \n",
        "print(b)"
      ],
      "execution_count": 5,
      "outputs": [
        {
          "output_type": "stream",
          "name": "stdout",
          "text": [
            "[[1 2 3]\n",
            " [4 5 6]]\n"
          ]
        }
      ]
    },
    {
      "cell_type": "code",
      "metadata": {
        "colab": {
          "base_uri": "https://localhost:8080/"
        },
        "id": "b63YVQXHCfwo",
        "outputId": "8b4aaadb-61df-4ade-ba18-5cc8c43da15e"
      },
      "source": [
        "#Create a 3x3 matrix\n",
        "c = np.array([[1,2,3],[4,5,6],[7,8,9]])\n",
        "print(c)"
      ],
      "execution_count": 8,
      "outputs": [
        {
          "output_type": "stream",
          "name": "stdout",
          "text": [
            "[[1 2 3]\n",
            " [4 5 6]\n",
            " [7 8 9]]\n"
          ]
        }
      ]
    },
    {
      "cell_type": "code",
      "metadata": {
        "colab": {
          "base_uri": "https://localhost:8080/"
        },
        "id": "jlKI6I3nDBh-",
        "outputId": "fd2353be-a6d6-4b16-cd70-8f706d10c4f5"
      },
      "source": [
        "#Create a constant array with all values are 6\n",
        "d = np.full((4,4),(6)) #This is an example of square matrix\n",
        "print(d)"
      ],
      "execution_count": 9,
      "outputs": [
        {
          "output_type": "stream",
          "name": "stdout",
          "text": [
            "[[6 6 6 6]\n",
            " [6 6 6 6]\n",
            " [6 6 6 6]\n",
            " [6 6 6 6]]\n"
          ]
        }
      ]
    },
    {
      "cell_type": "code",
      "metadata": {
        "colab": {
          "base_uri": "https://localhost:8080/"
        },
        "id": "kD-TyQKEDenv",
        "outputId": "acdad683-1bf6-4bd5-c369-61417ebfecb8"
      },
      "source": [
        "#Create a diagonal matrix\n",
        "e = np.array([[1,2,3],[4,5,6],[7,8,9]])\n",
        "print(e)\n",
        "e = np.diagonal([[1,2,3],[4,5,6],[7,8,9]])\n",
        "print(e)"
      ],
      "execution_count": 12,
      "outputs": [
        {
          "output_type": "stream",
          "name": "stdout",
          "text": [
            "[[1 2 3]\n",
            " [4 5 6]\n",
            " [7 8 9]]\n",
            "[1 5 9]\n"
          ]
        }
      ]
    },
    {
      "cell_type": "code",
      "metadata": {
        "colab": {
          "base_uri": "https://localhost:8080/"
        },
        "id": "9ntcBThVEcTv",
        "outputId": "2085ba2a-a18c-4948-c80d-fb4d55591b07"
      },
      "source": [
        "#Create an identity matrix\n",
        "f = np.eye(4)\n",
        "print(f)"
      ],
      "execution_count": 13,
      "outputs": [
        {
          "output_type": "stream",
          "name": "stdout",
          "text": [
            "[[1. 0. 0. 0.]\n",
            " [0. 1. 0. 0.]\n",
            " [0. 0. 1. 0.]\n",
            " [0. 0. 0. 1.]]\n"
          ]
        }
      ]
    },
    {
      "cell_type": "code",
      "metadata": {
        "colab": {
          "base_uri": "https://localhost:8080/"
        },
        "id": "-e8m3knXE1b0",
        "outputId": "a5688ba2-c589-4db3-f727-3dba73b45a63"
      },
      "source": [
        "#Create a zero matrix\n",
        "g = np.zeros((4,5))\n",
        "print(g)"
      ],
      "execution_count": 14,
      "outputs": [
        {
          "output_type": "stream",
          "name": "stdout",
          "text": [
            "[[0. 0. 0. 0. 0.]\n",
            " [0. 0. 0. 0. 0.]\n",
            " [0. 0. 0. 0. 0.]\n",
            " [0. 0. 0. 0. 0.]]\n"
          ]
        }
      ]
    },
    {
      "cell_type": "code",
      "metadata": {
        "colab": {
          "base_uri": "https://localhost:8080/"
        },
        "id": "J2R5V5T0FUO4",
        "outputId": "512190ec-604d-4be1-ce12-a001990aed40"
      },
      "source": [
        "#Create an empty matrix\n",
        "h = np.empty((0,5))\n",
        "print(h)"
      ],
      "execution_count": 15,
      "outputs": [
        {
          "output_type": "stream",
          "name": "stdout",
          "text": [
            "[]\n"
          ]
        }
      ]
    },
    {
      "cell_type": "code",
      "metadata": {
        "colab": {
          "base_uri": "https://localhost:8080/"
        },
        "id": "Bdd7icmbFqNd",
        "outputId": "64304d70-8a64-479b-9a21-ca7d77135c9d"
      },
      "source": [
        "#Addition of Matrices\n",
        "i = np.array([[1,2,3],[4,5,6]])\n",
        "j = np.zeros((2,3))\n",
        "print(i+j)"
      ],
      "execution_count": 17,
      "outputs": [
        {
          "output_type": "stream",
          "name": "stdout",
          "text": [
            "[[1. 2. 3.]\n",
            " [4. 5. 6.]]\n"
          ]
        }
      ]
    },
    {
      "cell_type": "code",
      "metadata": {
        "colab": {
          "base_uri": "https://localhost:8080/"
        },
        "id": "mXZd_yvXGTKC",
        "outputId": "524107a8-6eba-4232-e243-270c2f2f8202"
      },
      "source": [
        "#Subtraction of Matrices\n",
        "i = np.array([[1,2,3],[4,5,6]])\n",
        "j = np.array([[-1,2,4],[7,4,2]])\n",
        "print(i-j)"
      ],
      "execution_count": 20,
      "outputs": [
        {
          "output_type": "stream",
          "name": "stdout",
          "text": [
            "[[ 2  0 -1]\n",
            " [-3  1  4]]\n"
          ]
        }
      ]
    }
  ]
}